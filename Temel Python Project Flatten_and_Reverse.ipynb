{
 "cells": [
  {
   "cell_type": "code",
   "execution_count": 1,
   "id": "369ac7cc",
   "metadata": {},
   "outputs": [],
   "source": [
    "def flatten(l):\n",
    "    flat_list = []\n",
    "    for x in l:\n",
    "        if type(x) == list:\n",
    "            for y in x:\n",
    "                flat_list.append(y)\n",
    "        else:\n",
    "            flat_list.append(x)\n",
    "    return(flat_list)\n"
   ]
  },
  {
   "cell_type": "code",
   "execution_count": 2,
   "id": "25b72000",
   "metadata": {},
   "outputs": [
    {
     "data": {
      "text/plain": [
       "[1, 'a', 'cat', 2, 3, 'dog', 4, 5]"
      ]
     },
     "execution_count": 2,
     "metadata": {},
     "output_type": "execute_result"
    }
   ],
   "source": [
    "l=[[1,'a',['cat'],2],[[[3]],'dog'],4,5]\n",
    "flatten(flatten(flatten(l)))"
   ]
  },
  {
   "cell_type": "code",
   "execution_count": 6,
   "id": "fe2a6fe9",
   "metadata": {},
   "outputs": [],
   "source": [
    "def reverse(l):    \n",
    "    for i in range(len(l)):\n",
    "        if type(l[i]) == list:\n",
    "#             print(i)\n",
    "            l[i]=l[i][::-1]\n",
    "#             print(l[i])\n",
    "#             print(l)\n",
    "        else:\n",
    "            pass\n",
    "    reverse_list= (l[::-1])\n",
    "    print(reverse_list)\n",
    "\n",
    "            "
   ]
  },
  {
   "cell_type": "code",
   "execution_count": 8,
   "id": "361e4efb",
   "metadata": {},
   "outputs": [
    {
     "name": "stdout",
     "output_type": "stream",
     "text": [
      "[[7, 6, 5], [4, 3], [2, 1]]\n"
     ]
    }
   ],
   "source": [
    "l=[[1, 2], [3, 4], [5, 6, 7]]\n",
    "(reverse(l))"
   ]
  },
  {
   "cell_type": "code",
   "execution_count": null,
   "id": "759e8247",
   "metadata": {},
   "outputs": [],
   "source": []
  }
 ],
 "metadata": {
  "kernelspec": {
   "display_name": "Python 3 (ipykernel)",
   "language": "python",
   "name": "python3"
  },
  "language_info": {
   "codemirror_mode": {
    "name": "ipython",
    "version": 3
   },
   "file_extension": ".py",
   "mimetype": "text/x-python",
   "name": "python",
   "nbconvert_exporter": "python",
   "pygments_lexer": "ipython3",
   "version": "3.9.12"
  }
 },
 "nbformat": 4,
 "nbformat_minor": 5
}
